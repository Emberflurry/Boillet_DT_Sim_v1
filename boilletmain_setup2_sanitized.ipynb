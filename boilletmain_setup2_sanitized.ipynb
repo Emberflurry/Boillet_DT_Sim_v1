{
 "nbformat": 4,
 "nbformat_minor": 0,
 "metadata": {
  "colab": {
   "provenance": [],
   "authorship_tag": "ABX9TyPgCdPKV/Kwg1RLP0A1/1qe"
  },
  "kernelspec": {
   "name": "python3",
   "display_name": "Python 3"
  },
  "language_info": {
   "name": "python"
  }
 },
 "cells": [
  {
   "cell_type": "code",
   "execution_count": 3,
   "metadata": {
    "id": "7aa4ejj6TzsM",
    "executionInfo": {
     "status": "ok",
     "timestamp": 1739823132669,
     "user_tz": 300,
     "elapsed": 187,
     "user": {
      "displayName": "John DeForest",
      "userId": "06415265371523742123"
     }
    }
   },
   "outputs": [],
   "source": [
    "import json\n",
    "import os\n",
    "from google.colab import drive\n"
   ]
  },
  {
   "cell_type": "code",
   "source": [
    "drive.mount('/content/drive', force_remount=True)"
   ],
   "metadata": {
    "colab": {
     "base_uri": "https://localhost:8080/"
    },
    "id": "FUx9e9d5UglN",
    "executionInfo": {
     "status": "ok",
     "timestamp": 1739823150154,
     "user_tz": 300,
     "elapsed": 16874,
     "user": {
      "displayName": "John DeForest",
      "userId": "06415265371523742123"
     }
    },
    "outputId": "3b4a3296-3168-4fce-ed7d-12179b215826"
   },
   "execution_count": 4,
   "outputs": [
    {
     "output_type": "stream",
     "name": "stdout",
     "text": [
      "Mounted at /content/drive\n"
     ]
    }
   ]
  },
  {
   "cell_type": "code",
   "source": [
    "token = os.getenv('GITHUB_TOKEN')\n",
    "repo_name = 'Emberflurry/Boillet_DT_Sim_v1'\n",
    "file_name = 'boilletmain_setup2.ipynb'\n",
    "commit_message = 'Automatic backup from Colab'\n",
    "backup_path = '/content/drive/MyDrive/MDSCFP25/' + file_name\n",
    "if os.path.exists(backup_path):\n",
    "    print(f\"Found {backup_path}, proceeding with backup.\")\n",
    "else:\n",
    "    raise FileNotFoundError(f\"File not found: {backup_path}\")\n",
    "!git config --global user.email \"juandelbosque373@gmail.com\"\n",
    "!git config --global user.name \"Emberflurry\"\n",
    "if os.path.exists('Boillet_DT_Sim_v1'):\n",
    "    !rm -rf Boillet_DT_Sim_v1\n",
    "!git clone https://{os.environ['GITHUB_TOKEN']}@github.com/{repo_name}.git\n",
    "%cd Boillet_DT_Sim_v1\n",
    "!cp {backup_path} .\n",
    "with open(backup_path, 'r') as f:\n",
    "    notebook_data = json.load(f)\n",
    "for cell in notebook_data.get('cells', []):\n",
    "    if cell.get('cell_type') == 'code':\n",
    "sanitized_path = backup_path.replace('.ipynb', '_sanitized.ipynb')\n",
    "with open(sanitized_path, 'w') as f:\n",
    "    json.dump(notebook_data, f, indent=1)\n",
    "\n",
    "print(f\"Sanitized notebook saved to: {sanitized_path}\")\n",
    "!cp {sanitized_path} .\n",
    "!git add {os.path.basename(sanitized_path)}\n",
    "!git commit -m \"{commit_message}\"\n",
    "!git push origin main"
   ],
   "metadata": {
    "colab": {
     "base_uri": "https://localhost:8080/"
    },
    "id": "Ico33VxgUMqp",
    "executionInfo": {
     "status": "ok",
     "timestamp": 1739743151885,
     "user_tz": 300,
     "elapsed": 2742,
     "user": {
      "displayName": "John DeForest",
      "userId": "06415265371523742123"
     }
    },
    "outputId": "d966c8ee-41f9-4695-9a4e-b0ce2c9caf4d"
   },
   "execution_count": 16,
   "outputs": [
    {
     "output_type": "stream",
     "name": "stdout",
     "text": [
      "Found /content/drive/MyDrive/MDSCFP25/boilletmain_setup2.ipynb, proceeding with backup.\n",
      "Cloning into 'Boillet_DT_Sim_v1'...\n",
      "remote: Enumerating objects: 30, done.\u001b[K\n",
      "remote: Counting objects: 100% (30/30), done.\u001b[K\n",
      "remote: Compressing objects: 100% (20/20), done.\u001b[K\n",
      "remote: Total 30 (delta 14), reused 21 (delta 8), pack-reused 0 (from 0)\u001b[K\n",
      "Receiving objects: 100% (30/30), 516.80 KiB | 6.46 MiB/s, done.\n",
      "Resolving deltas: 100% (14/14), done.\n",
      "/content/Boillet_DT_Sim_v1\n",
      "Sanitized notebook saved to: /content/drive/MyDrive/MDSCFP25/boilletmain_setup2_sanitized.ipynb\n",
      "[main 65acbdb] Automatic backup from Colab\n",
      " 1 file changed, 148 insertions(+), 42 deletions(-)\n",
      "Enumerating objects: 5, done.\n",
      "Counting objects: 100% (5/5), done.\n",
      "Delta compression using up to 2 threads\n",
      "Compressing objects: 100% (3/3), done.\n",
      "Writing objects: 100% (3/3), 2.18 KiB | 2.18 MiB/s, done.\n",
      "Total 3 (delta 2), reused 0 (delta 0), pack-reused 0\n",
      "remote: Resolving deltas: 100% (2/2), completed with 2 local objects.\u001b[K\n",
      "To https://github.com/Emberflurry/Boillet_DT_Sim_v1.git\n",
      "   e18b1ee..65acbdb  main -> main\n"
     ]
    }
   ]
  },
  {
   "cell_type": "code",
   "source": [
    "# later: add in muscle lactate kinetics from supplement, then add in OBLA/blood lactate ests or formula\n",
    "# TODO: try special 3min-allout power test (req special loop config i think)\n",
    "# TODO: turn loop into a callable (ie: simulatable function!)\n",
    "#add lactate curve (see supplement), at least for sub LT1 seems aight"
   ],
   "metadata": {
    "id": "v2eXya2GT2Ec"
   },
   "execution_count": null,
   "outputs": []
  },
  {
   "cell_type": "code",
   "source": [
    "import numpy as np\n",
    "import pandas as pd\n",
    "import matplotlib.pyplot as plt\n",
    "from scipy.integrate import solve_ivp\n",
    "import matplotlib.patches as patches\n",
    "from matplotlib.animation import PillowWriter\n",
    "from google.colab import files\n",
    "from datetime import datetime\n",
    "import shutil\n",
    "import pytz"
   ],
   "metadata": {
    "id": "5EcoHCxT_x7h",
    "executionInfo": {
     "status": "ok",
     "timestamp": 1739823151324,
     "user_tz": 300,
     "elapsed": 1172,
     "user": {
      "displayName": "John DeForest",
      "userId": "06415265371523742123"
     }
    }
   },
   "execution_count": 5,
   "outputs": []
  },
  {
   "cell_type": "code",
   "source": [
    "#V8 trying to fix VO2 dynamics and lactate fitting\n",
    "#V7: adding lactate dynamics and other tests\n",
    "#V6: has anim of tanks, and live readouts. outputs a gif to downloads local folder lol.\n",
    "#V5: trying to get actual L height dynamics with capillary A_T\n",
    "#V4: redoing dl/dt and dV_G/dt tank calcs. works better. 2/4 early morn lol\n",
    "\n",
    "param_c1 = { # for Cyclist 1\n",
    "    'eta': 0.2551,  # Efficiency factor = Pmec@LT1/(%VO2max@LT1 * VO2max * C1)\n",
    "    'MO': 1.34,   # Max oxidative energy flux (kJ/s)\n",
    "    'MP': 4.48,   # Max mechanical power (kJ/s) = Pmec(max) / eta\n",
    "    'MG': 9.15,   # Max glycolytic flux (kJ/s). MG of 285J/kg(muscle mass involved in task)\n",
    "    'MR': 3.66,   # Max lactate recovery rate (kJ/s) = MG/2.5\n",
    "    'AP': 27.79,  # Phosphagen store (kJ)\n",
    "    'AG': 320.3,  # Glycolytic store (kJ)\n",
    "    'AT': 11.27,  # Capillary glycolytic store (kJ) = [La]muscle@LT1 / theta * massMuscle * C2 (i think all over)\n",
    "    'phi': 0.30,  # Height of O relative to P\n",
    "    'theta': 0.43,  # Depth of G relative to P\n",
    "    'lamb': 0.38  # Height of G relative to P\n",
    "}\n",
    "MG = param_c1['MG']\n",
    "eta = param_c1['eta']\n",
    "MP = param_c1['MP']\n",
    "MR = param_c1['MR']\n",
    "MO = param_c1['MO']\n",
    "AG = param_c1['AG']\n",
    "AP = param_c1['AP']\n",
    "AT = param_c1['AT']\n",
    "phi = param_c1['phi']\n",
    "theta = param_c1['theta']\n",
    "lamb = param_c1['lamb']\n",
    "P_height = 1\n",
    "#duration = 270  # 1 minut3\n",
    "#numbers = [100, 125,150,175,200,225,250,275,300,325,350, 375]\n",
    "#numbers = [100,290,300,310,320,330,330]\n",
    "#numbers = [175,200,225,250,275,300,325,350, 375]\n",
    "#numbers = [100, 125,150,175,200,225,250,200,150,100,50,220,280,350]\n",
    "#numbers = [100,200,300,315]\n",
    "#numbers = [400,400,400]\n",
    "#numbers = [150,200,250,260,270,280,290,300,310,320] #cyclist 1 investigating props around CP 280W\n",
    "#numbers = [295,295,295,295,295,295,295,295]\n",
    "#numbers = [250,260,270,280,290,300,310,320] #betw LT1, CP. for L3 (Heavy Work Rate Region)\n",
    "#numbers = [170,170,170,170,170] #sub LT1 testing\n",
    "#numbers = [310,320,330,340,350,360,370,380,390,400,410,420] #severe domain testing\n",
    "#numbers = [13.6,27.2,40.8,54.4,68,82,95,109,122,136,150,163,177,190,204,218,231,245,258,272,286,299,313,326] #fig 5B should fail at ~300 W\n",
    "#numbers = [320,340,360,380]\n",
    "#numbers = [180,200,240,280,320]\n",
    "#numbers = [200,240,280,330]\n",
    "#numbers = [200,260,310,370]\n",
    "#numbers = [170,170,170,170]\n",
    "#numbers = [230,230]\n",
    "#numbers = [400,500]\n",
    "#numbers = [170,210,250,280,320,400,500]\n",
    "numbers = [200,200,200]\n",
    "numbers = [224,224,224,224]\n",
    "#numbers = [295,295,295,295,295,295,295,295,295,295]\n",
    "reps = 60\n",
    "repeated_numbers = np.repeat(numbers, reps)\n",
    "repeated_list = repeated_numbers.tolist()\n",
    "duration = len(repeated_list)-1\n",
    "print(duration,'total seconds of test')\n",
    "h_init = 0 # 0 is P = full i think. 1 = P empty\n",
    "l_init = 0 #param_c1['theta'] # or 0?? # 0 is G=full, 1-lamb is G empty? very not sure on this one\n",
    "C1=20.9 # J/ml energy/ml of oxygen, Fixed for now\n",
    "C2=100 #J/mmol joules/accum lac in muscle\n",
    "C3= 43.3 #J/mmol joules/PC stores in working muscles assuming all can be fully depleted (not true tech)\n",
    "dl_dt_init = 0 #given in suppP1\n",
    "df1 = pd.DataFrame(np.zeros((duration, 19)),\n",
    "                   columns=['h', 'l', 'Pmec', 'Pphys', 'P', 'G','Po2','Pmaxtheo',\n",
    "                            'Failure',\"G %(rel.)\",'Lreal','LacM','LacM_eqn',\n",
    "                            'VO2_eqn','VO2_eqn_adj','l %(rel.)','LacM_lrel',\n",
    "                            'dl_dt','dh_dt'])\n",
    "df1.loc[0, 'h'] = h_init\n",
    "df1.loc[0, 'l'] = l_init\n",
    "df1.loc[0,'l %(rel.)'] = l_init #fix to relative?\n",
    "df1.loc[0, 'P'] = 1  #P init full\n",
    "df1.loc[0, 'G'] = 1  #G init empty\n",
    "df1.loc[0,'G %(rel.)'] = 1\n",
    "df1.loc[0,'Lreal'] = l_init #full capillary.\n",
    "df1.loc[0,'LacM'] = 1.5 #see main p6 for biopsy determ. 1.5mmol/kg wet wgt at rest TODO: make more indiv?\n",
    "df1.loc[0,'LacM_eqn'] = 1.5 #see main p6 for biopsy determ. 1.5mmol/kg wet wgt at rest TODO: make more indiv?\n",
    "df1.loc[0,'LacM_lrel'] = 1.5\n",
    "dt=1 #second\n",
    "variable_pwr = True\n",
    "global t_fail, t_fail_maxpwr, t_failcurVmax\n",
    "t_fail = 0\n",
    "t_fail_maxpwr = 0\n",
    "t_failcurVmax = 0\n",
    "\n",
    "pheight = 5\n",
    "pwidth = 10\n",
    "\n",
    "local_timezone = pytz.timezone('America/New_York')  # Replace with your time zone\n",
    "now = datetime.now(local_timezone)\n",
    "# Format the date and time\n",
    "current_time = now.strftime(\"%m.%d_%I_%M%p\")  # Format: MM.DD_HH:MMam/pm\n",
    "print(\"Current Time =\", current_time)\n",
    "folder_name = f\"simV8_{current_time}\"  # Folder name with timestamp\n",
    "output_folder = f\"/content/{folder_name}\"  # Save in Colab's current directory\n",
    "\n",
    "# Create the folder if it doesn't exist\n",
    "os.makedirs(output_folder, exist_ok=True)\n",
    "\n",
    "tank_gif_name = os.path.join(output_folder, f\"simV8tank_gif_{current_time}.gif\")\n",
    "#output_file = 'simV6gif1.gif'# didnt workr\"C:\\Users\\John DeForest\\Downloads\\sine_wave_animation.gif\"\n",
    "pwriter =  PillowWriter(fps=6)\n",
    "fig1, ax1 = plt.subplots() #lowerleft coord of rect\n",
    "fig1.set_size_inches(pwidth, pheight)\n",
    "ax1.set_xlim(0, pwidth)\n",
    "ax1.set_ylim(0, 1)\n",
    "pwriter.setup(fig1, tank_gif_name)\n",
    "\n",
    "\n",
    "for i in range(1, duration):\n",
    "    h_prev = df1.loc[i-1, 'h']\n",
    "    l_prev = df1.loc[i-1, 'l']\n",
    "    Pmec = repeated_list[i] / 1000 #conv raw W power profile to kJ/sec\n",
    "    Pphys = Pmec / param_c1['eta'] # in kJ/sec of demand.\n",
    "    VO2 = min(MO * (h_prev / (1 - phi)), MO) # kJ/sec, from suppP2. power from O2 alone. # AKA: D_(O->P)\n",
    "    df1.loc[i,'Po2']=VO2 * 1000 * eta #effective Pmec from current O2, in Watts (J/sec)\n",
    "    Pmax_theo_t = MP # kJ/sec, physiological power, NOT MECHANICAL\n",
    "    if l_prev > theta: #from indicator fn suppP1\n",
    "      Pmax_theo_t = Pmax_theo_t * ((1 - lamb - l_prev)/(1-lamb-theta))\n",
    "    elif l_prev <= theta:\n",
    "      Pmax_theo_t = Pmax_theo_t * ((1 - lamb - theta)/(1-lamb-theta))\n",
    "    df1.loc[i,'Pmaxtheo'] = Pmax_theo_t * 1000 * param_c1['eta'] # in Watts (J/sec)\n",
    "\n",
    "\n",
    "    #TODO: add checks to make sure fluxes dont exceed MG/MR/MO etc\n",
    "    unsc_dl_dt = ((h_prev - l_prev)/(1 - lamb)) #\"fluid volume\" change (took dl * baseArea(arb))\n",
    "    if unsc_dl_dt < 0: #negative dl, G heading UP = RECOVERY FLUX GOVERNED BY MR\n",
    "      if l_prev <= theta: #fluid lvl alr up in capillary, dl gov. by AT\n",
    "        dl_dt = (MR/AT) * ((h_prev - l_prev)/(1 - lamb)) #supp p1,2: eqns 2\n",
    "      elif l_prev > theta: #fluid lvl in Gtank, but could move up to capillary\n",
    "        hG = l_prev - theta #get height of GtankTop above l_prev\n",
    "        dl1 = hG\n",
    "        if abs(MR*unsc_dl_dt) > hG * AG: #going to go up capillary\n",
    "          spillover = abs(MR*unsc_dl_dt) - (hG * AG)\n",
    "          dl2 = spillover / AT\n",
    "          dl_dt = - (dl1 + dl2) #dl1 always pos here, dl2 also always pos^, ^^. so dl_dt needs to b neg.\n",
    "        elif abs(MR*unsc_dl_dt) <= hG * AG: #NOT going to go up cap\n",
    "          dl_dt = MR*unsc_dl_dt / AG #unscdl should b neg, so dldt should b neg.\n",
    "      else:\n",
    "        print('unsc_dl_dt neg, error w/ fluid lvl relative to capillary-UP')\n",
    "\n",
    "    elif unsc_dl_dt >= 0: #positive dl, G heading DOWN, gov by MG\n",
    "      if l_prev >= theta: #fluid lvl alr down in Gtank, dl gov. by AG\n",
    "        dl_dt = (MG/AG) * ((h_prev - l_prev)/(1 - lamb)) #supp p1,2: eqns 22\n",
    "      elif l_prev < theta: #fluid lvl in capillary, but could move down to Gtank\n",
    "        hT = theta - l_prev #get height of fluid in capillary down to top of Gtank\n",
    "        dl1 = hT\n",
    "        if abs(MG*unsc_dl_dt) > hT * AT: #going to go down to Gtank\n",
    "          spillover = abs(MG*unsc_dl_dt) - (hT * AT)\n",
    "          dl2 = spillover / AG\n",
    "          dl_dt =  (dl1 + dl2) #dl1 alw pos, dl2 pos, so dldt pos. G goes down.\n",
    "        elif abs(MG*unsc_dl_dt) <= hT * AT: #NOT going to go down to Gtank\n",
    "          dl_dt = MG*unsc_dl_dt / AT #unscdl should b pos, so dldt should b\n",
    "      else:\n",
    "        print('unsc_dl_dt pos, error w/ fluid lvl relative to capillary-DOWN')\n",
    "    else:\n",
    "      print('unsc_dl_dt error - other')\n",
    "\n",
    "    df1.loc[i,'dl_dt'] = dl_dt\n",
    "    #doesnt work check units ig????? FIX TODO HELP\n",
    "    #wrong bc of signage errors: #dh_dt = -(Pphys - VO2 - abs(unsc_dl_dt)) / AP #see paper deriv backside. needs unscl for volume apples to apples.\n",
    "    #TODO FIX dl_dt SCALING - figure out flux equiv???: i think wrong v: bc dldt is not a \"volume\" (kJ/sec) like the other quantities\n",
    "    dh_dt = (Pphys - VO2 - dl_dt) / AP #my deriv see paper diag. dV_G = - dl/dt?\n",
    "    df1.loc[i,'dh_dt'] = dh_dt\n",
    "    #print('dh_dt',dh_dt)\n",
    "    # if (h_prev + (dh_dt * dt)) > P_height or (h_prev + (dh_dt * dt)) <0:\n",
    "    #   #break #ignore print for now\n",
    "    #   print('attNewH',h_prev + (dh_dt * dt)) # means attempted to do a dh that is impossibly big :(\n",
    "    # if (l_prev + (dl_dt * dt)) > P_height - param_c1['lamb'] or (l_prev + (dl_dt * dt)) <0:\n",
    "    #   #break #ignore print for now\n",
    "    #   print('attNewL',l_prev + (dl_dt * dt)) # means attempted to do a dl that is impossibly big :(\n",
    "    df1.loc[i, 'h'] = max(0, min(1, h_prev + (dh_dt * dt)))  # [0 to 1]\n",
    "    df1.loc[i, 'l'] = max(0, min(1-lamb, l_prev + (dl_dt * dt)))  # [theta(or zero?) to 1-lamb]\n",
    "    df1.loc[i, 'Pphys'] = Pphys\n",
    "    df1.loc[i, 'P'] = 1-df1.loc[i, 'h']\n",
    "    df1.loc[i, 'G'] = 1-df1.loc[i, 'l']\n",
    "    df1.loc[i, 'G %(rel.)'] = (df1.loc[i, 'G'] - lamb) / (1-lamb)\n",
    "    df1.loc[i, 'l %(rel.)'] = 1-df1.loc[i, 'G %(rel.)']\n",
    "    df1.loc[i, 'VO2_eqn'] = df1.loc[i-1, 'VO2_eqn'] + ( (1/C1)* (MO/(1-phi)) * dl_dt)  + ((1/C1)*1000*(df1.loc[i, 'Pphys'] - df1.loc[i-1, 'Pphys']))\n",
    "    #*C1*60*eta #VO2 evol in L3. should be now in W (mechanical/effective)\n",
    "    df1.loc[i,'VO2_eqn_adj'] = df1.loc[i, 'VO2_eqn'] *60 #ml O2 per minute\n",
    "\n",
    "    h_curr = df1.loc[i, 'h']\n",
    "    l_curr = df1.loc[i, 'l']\n",
    "    Pphys_curr = df1.loc[i, 'Pphys']\n",
    "    Pmec_curr = repeated_list[i] #in Watts output power\n",
    "    Po2_curr = df1.loc[i, 'Po2']\n",
    "    P_curr = df1.loc[i, 'P']\n",
    "    G_curr = df1.loc[i, 'G']\n",
    "    G_rel_curr = df1.loc[i, 'G %(rel.)']\n",
    "    l_rel_curr = df1.loc[i,'l %(rel.)']\n",
    "    l_rel_prev = df1.loc[i-1,'l %(rel.)']\n",
    "    dl_dt_rel = l_rel_curr - l_rel_prev\n",
    "    #Pmax_theo_t_curr = df1.loc[i,'Pmaxtheo']\n",
    "\n",
    "    ATcor = 11\n",
    "    AGcor = 28.5\n",
    "    #AGadd = .05\n",
    "\n",
    "    # Determine dLacM/dt based on the lactate dynamics\n",
    "    if l_prev <= theta:  # Below LT1\n",
    "        #dLacM_dt = (1 / C2) * dl_dt * AT\n",
    "        dLacM_dt = (1 / C2) * dl_dt * AT * ATcor\n",
    "    elif theta < l_prev <= (1 - lamb):  # Between LT1 and Pcrit\n",
    "        dLacM_dt = (1 / C2) * dl_dt * AG * AGcor\n",
    "    else:  # Above Pcrit (Severe Work Rate)\n",
    "        dLacM_dt = (1 / C2) * dl_dt * AG * AGcor # Same scaling but no equilibrium\n",
    "    # Update lactate levels\n",
    "    df1.loc[i, 'LacM'] = max(0, df1.loc[i - 1, 'LacM'] + (dLacM_dt * dt))\n",
    "    df1.loc[i, 'LacM_eqn'] = 1.5 + (1/C2)*(l_curr*AT) if l_curr <= theta else 1.5 + (1/C2)*((l_curr-theta)*AG + theta*AT) # to check. for eqn 12 on supp p1\n",
    "    #deprecated in favor of ^ # df1.loc[i, 'LacM'] = 1/C2*l_curr*AG  #TODO CHECK pemdas VALID??? THIS ONLY VALID FOR L3 (heavy work rate p2 supp)\n",
    "    #df1.loc[i,'LacM_lrel'] = 1.5 + (1/C2) * dl_dt_rel * AT if l_curr <= theta else 1.5 + (1/C2) * (dl_dt_rel * AG + dl_dt_rel * AT)\n",
    "    if l_curr <= theta:\n",
    "      df1.loc[i,'LacM_lrel'] = 1.5 + (1/C2) * l_rel_curr * AT\n",
    "    else:\n",
    "      df1.loc[i,'LacM_lrel'] = 1.5 + (1/C2) * (l_rel_curr * AG + l_rel_curr * AT)\n",
    "\n",
    "    if i > 1:\n",
    "      if 1-df1.loc[i, 'h'] == 0: #failure to complete exercise when P = 0 = empty\n",
    "        if t_fail == 0:\n",
    "          t_fail = i\n",
    "          print(\"Ptank failure at t=\",i,'s, @',repeated_list[i],'W')\n",
    "    if i > 1:\n",
    "      if Pmax_theo_t <= 0.001:\n",
    "        if t_fail_maxpwr == 0:\n",
    "          t_fail_maxpwr = i\n",
    "          print('Pmec failure at t=',t_fail_maxpwr,'s, @',repeated_list[i],'W')\n",
    "    if i>1:\n",
    "      if Pmec_curr > df1.loc[i,'Pmaxtheo']:\n",
    "        if t_failcurVmax == 0:\n",
    "          t_failcurVmax = i\n",
    "          print('Pmec V Pmaxtheo failure at t=',t_failcurVmax,'s, @',repeated_list[i],'W')\n",
    "    frames = duration\n",
    "    pheight = 5\n",
    "    pwidth = 10\n",
    "    owid = (1/5) * pwidth\n",
    "    gap1 = 1/10\n",
    "    gap2=1/10\n",
    "    remaining = pwidth - ((gap1+gap2+owid/5)*pwidth)\n",
    "    remfrac = remaining / pwidth\n",
    "    Pwid = (AP / (AP + AG)) * remfrac\n",
    "    Gwid = (AG / (AP + AG)) * remfrac\n",
    "    ohi = 1-phi\n",
    "\n",
    "    G_kJ_left = 0\n",
    "    if l_curr > theta:\n",
    "      G_kJ_left = AG * G_rel_curr\n",
    "    elif l_curr <= theta:\n",
    "      G_kJ_left = AG*((1-theta-lamb)/(1-lamb)) + AT * ((theta-l_curr)/(1-lamb))\n",
    "\n",
    "    ax1.clear()\n",
    "    ax1.set_xlim(0, pwidth)\n",
    "    ax1.set_ylim(0, 1)\n",
    "\n",
    "    obox = patches.Rectangle((0, phi), owid, pheight, color='lightblue', alpha=0.3)\n",
    "    ax1.add_patch(obox)\n",
    "\n",
    "    annapwrtext = 'curANpwr: ' + str(round(Pmec_curr-Po2_curr,1)) + 'w (difDerived)'\n",
    "    ax1.text(.41, 0.235, annapwrtext, transform=ax1.transAxes, fontsize=12, verticalalignment='top')\n",
    "    oxypwrtext = 'cur Po2: ' + str(round(Po2_curr,1)) +'w'\n",
    "    ax1.text(.01, 0.09, oxypwrtext, transform=ax1.transAxes, fontsize=12, verticalalignment='top')\n",
    "    vo2curtext = 'relVO2cur: ' + str(round(VO2*1000/C1,1)) + ' ml/kg/min'\n",
    "    ax1.text(.01, 0.15, vo2curtext, transform=ax1.transAxes, fontsize=12, verticalalignment='top')\n",
    "    text1 = 'curPmec: ' + str(Pmec*1000) + 'w@t=' + str(i) + 's, (Pphys:' + str(round(Pphys*1000,1)) + 'w)'\n",
    "    ax1.text(.2, 0.05, text1, transform=ax1.transAxes, fontsize=12, verticalalignment='top')\n",
    "    GkJ_text = ', G kJ left: ' + str(round(G_kJ_left,2))\n",
    "    text2 = 'G: ' + str(round( df1.loc[i, 'G'],2)) + ', G%:'+ str(round(df1.loc[i, 'G %(rel.)'] * 100,2)) + GkJ_text\n",
    "    ax1.text(.41, 0.285, text2, transform=ax1.transAxes, fontsize=12, verticalalignment='top')\n",
    "    text3 = 'P: ' + str(round(df1.loc[i, 'P'],2)) + ', h: ' + str(round(df1.loc[i, 'h'],2)) + ', l: ' + str(round(df1.loc[i, 'l'],2))\n",
    "    ax1.text(.01, 0.25, text3, transform=ax1.transAxes, fontsize=12, verticalalignment='top')\n",
    "    text4 = 'simV8-W profile: ' + str(numbers) + ' ea for' + str(reps) + 's'\n",
    "    ax1.text(.25, 1.12, text4, transform=ax1.transAxes, fontsize=12, verticalalignment='top')\n",
    "    pbox = patches.Rectangle((owid+(gap1*pwidth), 0), Pwid*pwidth, df1.loc[i, 'P'], color='grey', alpha=0.3)\n",
    "    ax1.add_patch(pbox)\n",
    "    gbox = patches.Rectangle((owid+(gap1*pwidth)+Pwid*pwidth+(gap2*pwidth), lamb),\n",
    "                             Gwid*pwidth,df1.loc[i, 'G']-lamb , color='orange', alpha=0.3)\n",
    "    ax1.add_patch(gbox)\n",
    "    chimNotWidth = (Gwid*pwidth) - ((AT/AP)*(Pwid*pwidth))\n",
    "    gchimNot = patches.Rectangle((owid+(gap1*pwidth)+Pwid*pwidth+(gap2*pwidth), 1-theta),\n",
    "                                 chimNotWidth ,theta , color='white', alpha=0.85)\n",
    "    ax1.add_patch(gchimNot)\n",
    "\n",
    "    pwriter.grab_frame()\n",
    "\n",
    "pwriter.finish()\n",
    "plt.close(fig1)\n",
    "\n",
    "tank_filename = os.path.join(output_folder, f\"tank_{current_time}.png\")\n",
    "power_filename = os.path.join(output_folder, f\"power_{current_time}.png\")\n",
    "#deprecated: saves to zip file now files.download(tank_gif_name)\n",
    "#fig1.savefig('anim1.gif', writer='pillow')\n",
    "if t_fail == 0:\n",
    "  t_fail = duration-1\n",
    "  print(\"Ptank failure not reached, assigned at t=\",t_fail,'s')\n",
    "if t_fail_maxpwr == 0:\n",
    "  t_fail_maxpwr = duration-1\n",
    "  print(\"Pmec failure not reached, assigned at t=\",t_fail_maxpwr,'s')\n",
    "if t_failcurVmax == 0:\n",
    "  t_failcurVmax = duration-1\n",
    "  print(\"Pmec V Pmaxtheo failure not reached, assigned at t=\",t_failcurVmax,'s')\n",
    "\n",
    "fig1,ax1 = plt.subplots()\n",
    "fig1.figsize=(10, 5)\n",
    "ax1.plot( df1['P'], label='P tank level',color='black')\n",
    "ax1.plot( df1['G'], label='G tank level(unscaled, raw)', color='red')\n",
    "ax1.plot( df1['G %(rel.)'], label='G tank level(scaled)', color='blue')\n",
    "ax1.plot(df1['l %(rel.)'],label='l % depletion (scaled)',color='pink')\n",
    "#ax1.plot(df1['LacM_lrel'],label='Lac fr relDep',color='purple')\n",
    "ax1.plot( df1['h'], label='h: depletion of P', color='black',linestyle='--')\n",
    "ax1.plot( df1['l'], label='l: depletion of G', color='red',linestyle='--')\n",
    "ax1.axvline(t_fail, linestyle='--', color='purple', label='PtankFailure')\n",
    "ax1.axvline(t_fail_maxpwr, linestyle='--', color='violet', label='PmecFailure')\n",
    "ax1.axhline(1, linestyle='-', color='black')\n",
    "ax1.axhline(0, linestyle='-', color='black')\n",
    "ax1.set_xlabel('Time (s)')\n",
    "ax1.set_ylabel('Compartment Levels')\n",
    "ax1.legend(loc=\"center left\", bbox_to_anchor=(1.2, 0.5))\n",
    "#plt.tight_layout()\n",
    "tanktitletext = 'simV7 - Pmec w profile: ' + str(numbers) + ' ea for' + str(reps) + 's'\n",
    "ax1.set_title(tanktitletext)\n",
    "\n",
    "ax2=ax1.twinx()\n",
    "ax2.plot(df1['LacM'],label='LacM L1-2',color='green')\n",
    "ax2.plot(df1['LacM_eqn'],label='LacMeqn',color='lightgreen')\n",
    "ax2.set_ylim(0,20)\n",
    "ax2.set_ylabel('LacM \\n (mmol/kg wet wgt)')\n",
    "ax2.legend()\n",
    "fig1.savefig(tank_filename)\n",
    "plt.show()\n",
    "print(\"W from O2@end\",round(df1.loc[duration-1,'Po2'],1),\"W. i think correct\")\n",
    "plt.close()\n",
    "\n",
    "plt.figure(figsize=(10, 6.5))\n",
    "plt.plot(df1['Po2'],color='blue',label='aerobic power contrib')\n",
    "plt.plot(repeated_list, color='black',label=\"output power\")\n",
    "plt.plot(repeated_list[0:-1] - df1['Po2'], color='orange',label='ANaerobic pwr contrib (d.d.)' )\n",
    "\n",
    "plt.axvline(t_fail, linestyle='--', color='purple', label='PtankFailure')\n",
    "plt.axvline(t_fail_maxpwr, linestyle='--', color='violet', label='PmecFailure')\n",
    "print('@end Pmax theo.:',round(df1.loc[duration-1,'Pmaxtheo'],2),'W')\n",
    "plt.plot(df1['Pmaxtheo'],color='red',linestyle='--', label=\"potential max power\")\n",
    "plt.xlabel('Time (s)')\n",
    "plt.ylabel('W')\n",
    "plt.legend()\n",
    "plt.title('Pwr-MaxPotential/Aero/An/Pmec 4:'+ str(numbers) + ' ea for' + str(reps) + 's')\n",
    "print(\"VO2max of athlete:\",round((param_c1['MO']*1000)/C1,1), \"ml/kg/min, at weight in kg of 64kg?? (need calc)\")\n",
    "print(\"Max effective Pmec from aerobic??\", round(((param_c1['MO']*1000*param_c1['eta']))  ,1),\"W (potential/limit) idk if right/useful tho\") # i think this is correct to show max mech watts from aerobic pwr\n",
    "print(\"WRONG FIX Crit Power % of VO2max (aerobic component only):\",round(100*param_c1['MO']*(1-param_c1['lamb']),1),\"% see note below\")\n",
    "print(\"from sims: LT1@190w(18.5%Max) / LT2@247w(24.0%Max) TODO FIX FROM PAPER SHOULD BE 280W CP\")\n",
    "print('from SuppFormulae: P@LT1=',round(1000*eta*MO*(theta/(1-phi)),1),\"w?\")\n",
    "print('from SuppForm. P@CP=',round(eta*((1-lamb)/( (1-phi)+(MO/MP)*(1-theta-lamb) ))*MO*1000,1),'w. checks out w paper')\n",
    "print('(Beta=',round((1-lamb)/( (1-phi)+(MO/MP)*(1-theta-lamb) ),2),')')\n",
    "print('@end h, l, theta | w/eta:',str(eta))\n",
    "print(round(df1.loc[duration-1,'h'],2),round(df1.loc[duration-1,'l'],2),param_c1['theta'])\n",
    "print('Pmec@tfail(P=0):',repeated_list[t_fail],'w','Pmec@tfailtheomax(G=0):',repeated_list[t_fail_maxpwr],'w')\n",
    "print('LacM L1-2 @end:',round(df1.loc[duration-1,'LacM'],2),'mmol/kg wet wgt')\n",
    "print('LacM eqn @end:',round(df1.loc[duration-1,'LacM_eqn'],2),'mmol/kg wet wgt')\n",
    "plt.savefig(power_filename)\n",
    "plt.show()\n",
    "plt.close()\n",
    "#depr files.download(power_filename)\n",
    "#depr files.download(tank_filename)\n",
    "\n",
    "zip_filename = f\"/content/{folder_name}.zip\"\n",
    "shutil.make_archive(output_folder, 'zip', output_folder)\n",
    "# Step 6: Download the zipped folder to your computer\n",
    "from google.colab import files\n",
    "files.download(zip_filename)\n",
    "print(f\"Folder '{folder_name}' with figures has been zipped and downloaded.\")\n",
    "\n",
    "\n"
   ],
   "metadata": {
    "colab": {
     "base_uri": "https://localhost:8080/",
     "height": 1000
    },
    "id": "XLrPhTv2s3ce",
    "executionInfo": {
     "status": "ok",
     "timestamp": 1739824543527,
     "user_tz": 300,
     "elapsed": 33543,
     "user": {
      "displayName": "John DeForest",
      "userId": "06415265371523742123"
     }
    },
    "outputId": "3e1b5500-b06f-48b4-e958-9bd0057281ea"
   },
   "execution_count": 14,
   "outputs": [
    {
     "output_type": "stream",
     "name": "stdout",
     "text": [
      "239 total seconds of test\n",
      "Current Time = 02.17_03_35PM\n",
      "Ptank failure not reached, assigned at t= 238 s\n",
      "Pmec failure not reached, assigned at t= 238 s\n"
     ]
    },
    {
     "output_type": "display_data",
     "data": {
      "text/plain": [
       "<Figure size 640x480 with 2 Axes>"
      ],
      "image/png": "[encoded data removed]"
     },
     "metadata": {}
    },
    {
     "output_type": "stream",
     "name": "stdout",
     "text": [
      "W from O2@end 224.0 W. i think correct\n",
      "@end Pmax theo.: 970.27 W\n",
      "VO2max of athlete: 64.1 ml/kg/min, at weight in kg of 64kg?? (need calc)\n",
      "Max effective Pmec from aerobic?? 341.8 W (potential/limit) idk if right/useful tho\n",
      "WRONG FIX Crit Power % of VO2max (aerobic component only): 83.1 % see note below\n",
      "from sims: LT1@190w(18.5%Max) / LT2@247w(24.0%Max) TODO FIX FROM PAPER SHOULD BE 280W CP\n",
      "from SuppFormulae: P@LT1= 210.0 w?\n",
      "from SuppForm. P@CP= 280.0 w. checks out w paper\n",
      "(Beta= 0.82 )\n",
      "@end h, l, theta | w/eta: 0.2551\n",
      "0.46 0.46 0.43\n",
      "Pmec@tfail(P=0): 224 w Pmec@tfailtheomax(G=0): 224 w\n",
      "LacM L1-2 @end: 4.65 mmol/kg wet wgt\n",
      "LacM eqn @end: 1.64 mmol/kg wet wgt\n"
     ]
    },
    {
     "output_type": "display_data",
     "data": {
      "text/plain": [
       "<Figure size 1000x650 with 1 Axes>"
      ],
      "image/png": "[encoded data removed]"
     },
     "metadata": {}
    },
    {
     "output_type": "display_data",
     "data": {
      "text/plain": [
       "<IPython.core.display.Javascript object>"
      ],
      "application/javascript": [
       "\n",
       "    async function download(id, filename, size) {\n",
       "      if (!google.colab.kernel.accessAllowed) {\n",
       "        return;\n",
       "      }\n",
       "      const div = document.createElement('div');\n",
       "      const label = document.createElement('label');\n",
       "      label.textContent = `Downloading \"${filename}\": `;\n",
       "      div.appendChild(label);\n",
       "      const progress = document.createElement('progress');\n",
       "      progress.max = size;\n",
       "      div.appendChild(progress);\n",
       "      document.body.appendChild(div);\n",
       "\n",
       "      const buffers = [];\n",
       "      let downloaded = 0;\n",
       "\n",
       "      const channel = await google.colab.kernel.comms.open(id);\n",
       "      // Send a message to notify the kernel that we're ready.\n",
       "      channel.send({})\n",
       "\n",
       "      for await (const message of channel.messages) {\n",
       "        // Send a message to notify the kernel that we're ready.\n",
       "        channel.send({})\n",
       "        if (message.buffers) {\n",
       "          for (const buffer of message.buffers) {\n",
       "            buffers.push(buffer);\n",
       "            downloaded += buffer.byteLength;\n",
       "            progress.value = downloaded;\n",
       "          }\n",
       "        }\n",
       "      }\n",
       "      const blob = new Blob(buffers, {type: 'application/binary'});\n",
       "      const a = document.createElement('a');\n",
       "      a.href = window.URL.createObjectURL(blob);\n",
       "      a.download = filename;\n",
       "      div.appendChild(a);\n",
       "      a.click();\n",
       "      div.remove();\n",
       "    }\n",
       "  "
      ]
     },
     "metadata": {}
    },
    {
     "output_type": "display_data",
     "data": {
      "text/plain": [
       "<IPython.core.display.Javascript object>"
      ],
      "application/javascript": [
       "download(\"download_7cff6713-a362-48b9-9e26-5e2122f255bc\", \"simV8_02.17_03_35PM.zip\", 4699902)"
      ]
     },
     "metadata": {}
    },
    {
     "output_type": "stream",
     "name": "stdout",
     "text": [
      "Folder 'simV8_02.17_03_35PM' with figures has been zipped and downloaded.\n"
     ]
    },
    {
     "output_type": "execute_result",
     "data": {
      "text/plain": [
       "Text(0.5, 1.0, 'dl_dt')"
      ]
     },
     "metadata": {},
     "execution_count": 14
    },
    {
     "output_type": "display_data",
     "data": {
      "text/plain": [
       "<Figure size 640x480 with 1 Axes>"
      ],
      "image/png": "[encoded data removed]"
     },
     "metadata": {}
    }
   ]
  },
  {
   "cell_type": "code",
   "source": [
    "plt.figure()\n",
    "#plt.plot(df1['VO2_eqn_adj'],color='purple',label='VO2 pwr from L3 eqn')\n",
    "#VdotO2_evol_eqn_2 = (1/C1)*(df1['Pphys']+(MO*df1['l'])/(1-phi))\n",
    "#plt.plot(VdotO2_evol_eqn_2,color='blue',label='VO2 pwr from eqn2')\n",
    "plt.plot(df1['dl_dt'], color='orange')\n",
    "plt.title(\"dl_dt, dh_dt\")\n",
    "plt.plot(df1['dh_dt'], color='grey')"
   ],
   "metadata": {
    "colab": {
     "base_uri": "https://localhost:8080/",
     "height": 469
    },
    "id": "mpAEnU2Coqet",
    "executionInfo": {
     "status": "ok",
     "timestamp": 1739824765246,
     "user_tz": 300,
     "elapsed": 494,
     "user": {
      "displayName": "John DeForest",
      "userId": "06415265371523742123"
     }
    },
    "outputId": "9454b38c-0826-4b6d-9709-c2a218a79293"
   },
   "execution_count": 20,
   "outputs": [
    {
     "output_type": "execute_result",
     "data": {
      "text/plain": [
       "[<matplotlib.lines.Line2D at 0x7d7770741b10>]"
      ]
     },
     "metadata": {},
     "execution_count": 20
    },
    {
     "output_type": "display_data",
     "data": {
      "text/plain": [
       "<Figure size 640x480 with 1 Axes>"
      ],
      "image/png": "[encoded data removed]"
     },
     "metadata": {}
    }
   ]
  },
  {
   "cell_type": "code",
   "source": [
    "#issue: FIX TODO doesnt capture SS VO2drift to vo2max at supra threshold. maybe a fn of lactate? check boillet and fix difeq representation?\n",
    "#wait hmm not sure if it is...^YES SEE SUPP p2 for VO2 Kinetics - this is sick bc we can see SS vo2 demand/response and Non-ss and find inefficiencies!!!!\n",
    "#hmm yeah it doesnt deal with L3 i think - vo2 power comes up and there is no anaerobic power supply at L3... i think thats an issue. there should be some drift? not sure tbh\n",
    "#maybe derive as a % of G box left? vol? area?height? idk. maybe this is fine. maybe itll all manifest in LACTATE (derived from G box level l.)"
   ],
   "metadata": {
    "id": "ZkNaepvmWM_J"
   },
   "execution_count": null,
   "outputs": []
  },
  {
   "cell_type": "code",
   "source": [
    "print(df1.loc[duration-1,'LacM'])\n",
    "print(df1.loc[duration-1,'LacM_eqn'])\n",
    "print(l_curr)"
   ],
   "metadata": {
    "colab": {
     "base_uri": "https://localhost:8080/"
    },
    "id": "xmfu_HnUZGyu",
    "executionInfo": {
     "status": "ok",
     "timestamp": 1739824664385,
     "user_tz": 300,
     "elapsed": 142,
     "user": {
      "displayName": "John DeForest",
      "userId": "06415265371523742123"
     }
    },
    "outputId": "02e9935f-b988-4c29-8de9-520aa1a8ad72"
   },
   "execution_count": 16,
   "outputs": [
    {
     "output_type": "stream",
     "name": "stdout",
     "text": [
      "4.646611634295333\n",
      "1.6403583492962006\n",
      "0.4586910238202312\n"
     ]
    }
   ]
  },
  {
   "cell_type": "code",
   "source": [
    "print(df1['VO2_eqn'])\n"
   ],
   "metadata": {
    "colab": {
     "base_uri": "https://localhost:8080/"
    },
    "id": "OapkGkIsvusq",
    "executionInfo": {
     "status": "ok",
     "timestamp": 1739340920632,
     "user_tz": 300,
     "elapsed": 8,
     "user": {
      "displayName": "John DeForest",
      "userId": "06415265371523742123"
     }
    },
    "outputId": "4e81abfe-973a-4413-bc26-2ad275b4f4fd"
   },
   "execution_count": null,
   "outputs": [
    {
     "output_type": "stream",
     "name": "stdout",
     "text": [
      "0      0.000000\n",
      "1      0.180000\n",
      "2      0.196237\n",
      "3      0.205565\n",
      "4      0.216367\n",
      "         ...   \n",
      "294    0.635640\n",
      "295    0.636379\n",
      "296    0.637122\n",
      "297    0.637866\n",
      "298    0.638613\n",
      "Name: VO2_eqn, Length: 299, dtype: float64\n"
     ]
    }
   ]
  },
  {
   "cell_type": "code",
   "source": [
    "#TODO FIX: fix pmaxtheo to check against pcurrent for failure too. may shift failure point sig."
   ],
   "metadata": {
    "id": "T8pSLaGE3L3V"
   },
   "execution_count": null,
   "outputs": []
  },
  {
   "cell_type": "code",
   "source": [
    "plt.figure()\n",
    "#plt.plot(df1['VO2_eqn_adj'],color='purple',label='VO2 pwr from L3 eqn')\n",
    "VdotO2_evol_eqn_2 = (1/C1)*(1000*df1['Pphys']+(1000*MO*df1['l'])/(1-phi))\n",
    "plt.plot(VdotO2_evol_eqn_2,color='blue',label='VO2 pwr from eqn2')\n",
    "plt.title(\"VO2 ml O2 / min at L3 VALID ONLY\")"
   ],
   "metadata": {
    "colab": {
     "base_uri": "https://localhost:8080/",
     "height": 469
    },
    "id": "Rr9-JXVQ8OYa",
    "executionInfo": {
     "status": "ok",
     "timestamp": 1739824668078,
     "user_tz": 300,
     "elapsed": 316,
     "user": {
      "displayName": "John DeForest",
      "userId": "06415265371523742123"
     }
    },
    "outputId": "6a289978-ab70-4865-8f2d-1e51cf69004b"
   },
   "execution_count": 17,
   "outputs": [
    {
     "output_type": "execute_result",
     "data": {
      "text/plain": [
       "Text(0.5, 1.0, 'VO2 ml O2 / min at L3 VALID ONLY')"
      ]
     },
     "metadata": {},
     "execution_count": 17
    },
    {
     "output_type": "display_data",
     "data": {
      "text/plain": [
       "<Figure size 640x480 with 1 Axes>"
      ],
      "image/png": "[encoded data removed]"
     },
     "metadata": {}
    }
   ]
  },
  {
   "cell_type": "code",
   "source": [
    "print(VdotO2_evol_eqn_2)"
   ],
   "metadata": {
    "colab": {
     "base_uri": "https://localhost:8080/"
    },
    "id": "uip7WJlT-oXL",
    "executionInfo": {
     "status": "ok",
     "timestamp": 1739823187814,
     "user_tz": 300,
     "elapsed": 5,
     "user": {
      "displayName": "John DeForest",
      "userId": "06415265371523742123"
     }
    },
    "outputId": "c0a78676-6cbd-4b0d-d69b-723a757ab571"
   },
   "execution_count": 9,
   "outputs": [
    {
     "output_type": "stream",
     "name": "stdout",
     "text": [
      "0       0.000000\n",
      "1      42.013733\n",
      "2      45.803522\n",
      "3      47.980736\n",
      "4      50.502256\n",
      "         ...    \n",
      "234    84.026247\n",
      "235    84.026300\n",
      "236    84.026350\n",
      "237    84.026399\n",
      "238    84.026445\n",
      "Length: 239, dtype: float64\n"
     ]
    }
   ]
  },
  {
   "cell_type": "code",
   "source": [
    "print(VdotO2_evol_eqn_2.to_string(index=False))"
   ],
   "metadata": {
    "colab": {
     "base_uri": "https://localhost:8080/"
    },
    "id": "OQGZKrIJicKt",
    "executionInfo": {
     "status": "ok",
     "timestamp": 1739823187814,
     "user_tz": 300,
     "elapsed": 4,
     "user": {
      "displayName": "John DeForest",
      "userId": "06415265371523742123"
     }
    },
    "outputId": "31a11587-cec9-4997-b925-5943d918914a"
   },
   "execution_count": 10,
   "outputs": [
    {
     "output_type": "stream",
     "name": "stdout",
     "text": [
      " 0.000000\n",
      "42.013733\n",
      "45.803522\n",
      "47.980736\n",
      "50.502256\n",
      "52.680879\n",
      "54.777957\n",
      "56.713214\n",
      "58.528162\n",
      "60.219735\n",
      "61.800090\n",
      "63.275183\n",
      "64.652512\n",
      "65.938381\n",
      "67.138927\n",
      "68.259789\n",
      "69.306263\n",
      "70.283283\n",
      "71.195461\n",
      "72.047099\n",
      "72.842215\n",
      "73.584561\n",
      "74.277638\n",
      "74.924718\n",
      "75.528851\n",
      "76.092890\n",
      "76.619494\n",
      "77.111148\n",
      "77.570172\n",
      "77.998732\n",
      "78.398848\n",
      "78.772410\n",
      "79.121179\n",
      "79.446801\n",
      "79.750812\n",
      "80.034646\n",
      "80.299642\n",
      "80.547052\n",
      "80.778041\n",
      "80.993700\n",
      "81.195045\n",
      "81.383028\n",
      "81.404188\n",
      "81.417321\n",
      "81.437248\n",
      "81.463136\n",
      "81.494226\n",
      "81.529829\n",
      "81.569321\n",
      "81.612134\n",
      "81.657756\n",
      "81.705724\n",
      "81.755619\n",
      "81.807065\n",
      "81.859722\n",
      "81.913285\n",
      "81.967482\n",
      "82.022068\n",
      "82.076828\n",
      "82.131566\n",
      "82.186111\n",
      "82.240314\n",
      "82.294039\n",
      "82.347171\n",
      "82.399609\n",
      "82.451265\n",
      "82.502063\n",
      "82.551940\n",
      "82.600842\n",
      "82.648725\n",
      "82.695551\n",
      "82.741292\n",
      "82.785927\n",
      "82.829438\n",
      "82.871816\n",
      "82.913055\n",
      "82.953152\n",
      "82.992110\n",
      "83.029934\n",
      "83.066634\n",
      "83.102220\n",
      "83.136705\n",
      "83.170106\n",
      "83.202438\n",
      "83.233721\n",
      "83.263975\n",
      "83.293220\n",
      "83.321477\n",
      "83.348770\n",
      "83.375120\n",
      "83.400552\n",
      "83.425088\n",
      "83.448753\n",
      "83.471570\n",
      "83.493563\n",
      "83.514755\n",
      "83.535170\n",
      "83.554832\n",
      "83.573764\n",
      "83.591988\n",
      "83.609527\n",
      "83.626402\n",
      "83.642636\n",
      "83.658250\n",
      "83.673264\n",
      "83.687699\n",
      "83.701575\n",
      "83.714912\n",
      "83.727727\n",
      "83.740040\n",
      "83.751868\n",
      "83.763229\n",
      "83.774140\n",
      "83.784617\n",
      "83.794677\n",
      "83.804334\n",
      "83.813604\n",
      "83.822501\n",
      "83.831039\n",
      "83.839232\n",
      "83.847093\n",
      "83.854634\n",
      "83.861869\n",
      "83.868809\n",
      "83.875464\n",
      "83.881848\n",
      "83.887969\n",
      "83.893838\n",
      "83.899466\n",
      "83.904862\n",
      "83.910035\n",
      "83.914993\n",
      "83.919746\n",
      "83.924302\n",
      "83.928668\n",
      "83.932853\n",
      "83.936863\n",
      "83.940706\n",
      "83.944388\n",
      "83.947916\n",
      "83.951297\n",
      "83.954535\n",
      "83.957638\n",
      "83.960610\n",
      "83.963458\n",
      "83.966185\n",
      "83.968798\n",
      "83.971300\n",
      "83.973697\n",
      "83.975993\n",
      "83.978191\n",
      "83.980297\n",
      "83.982313\n",
      "83.984244\n",
      "83.986093\n",
      "83.987864\n",
      "83.989559\n",
      "83.991183\n",
      "83.992737\n",
      "83.994225\n",
      "83.995650\n",
      "83.997014\n",
      "83.998321\n",
      "83.999571\n",
      "84.000768\n",
      "84.001914\n",
      "84.003012\n",
      "84.004062\n",
      "84.005067\n",
      "84.006030\n",
      "84.006951\n",
      "84.007833\n",
      "84.008677\n",
      "84.009485\n",
      "84.010259\n",
      "84.010999\n",
      "84.011708\n",
      "84.012386\n",
      "84.013035\n",
      "84.013657\n",
      "84.014251\n",
      "84.014820\n",
      "84.015365\n",
      "84.015886\n",
      "84.016385\n",
      "84.016863\n",
      "84.017320\n",
      "84.017757\n",
      "84.018176\n",
      "84.018576\n",
      "84.018960\n",
      "84.019327\n",
      "84.019678\n",
      "84.020014\n",
      "84.020335\n",
      "84.020643\n",
      "84.020937\n",
      "84.021219\n",
      "84.021488\n",
      "84.021746\n",
      "84.021993\n",
      "84.022230\n",
      "84.022456\n",
      "84.022672\n",
      "84.022879\n",
      "84.023077\n",
      "84.023267\n",
      "84.023448\n",
      "84.023622\n",
      "84.023788\n",
      "84.023947\n",
      "84.024099\n",
      "84.024244\n",
      "84.024383\n",
      "84.024516\n",
      "84.024644\n",
      "84.024766\n",
      "84.024883\n",
      "84.024994\n",
      "84.025101\n",
      "84.025203\n",
      "84.025301\n",
      "84.025395\n",
      "84.025484\n",
      "84.025570\n",
      "84.025652\n",
      "84.025730\n",
      "84.025805\n",
      "84.025877\n",
      "84.025946\n",
      "84.026012\n",
      "84.026074\n",
      "84.026135\n",
      "84.026192\n",
      "84.026247\n",
      "84.026300\n",
      "84.026350\n",
      "84.026399\n",
      "84.026445\n"
     ]
    }
   ]
  },
  {
   "cell_type": "code",
   "source": [
    "VdotO2_evol_eqn_2.to_csv(\"column_data.csv\", index=False)\n",
    "from google.colab import files\n",
    "files.download(\"column_data.csv\")"
   ],
   "metadata": {
    "colab": {
     "base_uri": "https://localhost:8080/",
     "height": 17
    },
    "id": "oCDM_--6jFwn",
    "executionInfo": {
     "status": "ok",
     "timestamp": 1739823295466,
     "user_tz": 300,
     "elapsed": 132,
     "user": {
      "displayName": "John DeForest",
      "userId": "06415265371523742123"
     }
    },
    "outputId": "398f753b-d5bf-4039-ab92-9f265a324c1a"
   },
   "execution_count": 11,
   "outputs": [
    {
     "output_type": "display_data",
     "data": {
      "text/plain": [
       "<IPython.core.display.Javascript object>"
      ],
      "application/javascript": [
       "\n",
       "    async function download(id, filename, size) {\n",
       "      if (!google.colab.kernel.accessAllowed) {\n",
       "        return;\n",
       "      }\n",
       "      const div = document.createElement('div');\n",
       "      const label = document.createElement('label');\n",
       "      label.textContent = `Downloading \"${filename}\": `;\n",
       "      div.appendChild(label);\n",
       "      const progress = document.createElement('progress');\n",
       "      progress.max = size;\n",
       "      div.appendChild(progress);\n",
       "      document.body.appendChild(div);\n",
       "\n",
       "      const buffers = [];\n",
       "      let downloaded = 0;\n",
       "\n",
       "      const channel = await google.colab.kernel.comms.open(id);\n",
       "      // Send a message to notify the kernel that we're ready.\n",
       "      channel.send({})\n",
       "\n",
       "      for await (const message of channel.messages) {\n",
       "        // Send a message to notify the kernel that we're ready.\n",
       "        channel.send({})\n",
       "        if (message.buffers) {\n",
       "          for (const buffer of message.buffers) {\n",
       "            buffers.push(buffer);\n",
       "            downloaded += buffer.byteLength;\n",
       "            progress.value = downloaded;\n",
       "          }\n",
       "        }\n",
       "      }\n",
       "      const blob = new Blob(buffers, {type: 'application/binary'});\n",
       "      const a = document.createElement('a');\n",
       "      a.href = window.URL.createObjectURL(blob);\n",
       "      a.download = filename;\n",
       "      div.appendChild(a);\n",
       "      a.click();\n",
       "      div.remove();\n",
       "    }\n",
       "  "
      ]
     },
     "metadata": {}
    },
    {
     "output_type": "display_data",
     "data": {
      "text/plain": [
       "<IPython.core.display.Javascript object>"
      ],
      "application/javascript": [
       "download(\"download_f3a9ee8f-19bf-41f3-be36-a59292747326\", \"column_data.csv\", 4260)"
      ]
     },
     "metadata": {}
    }
   ]
  }
 ]
}